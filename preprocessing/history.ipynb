{
 "cells": [
  {
   "cell_type": "code",
   "execution_count": 20,
   "metadata": {},
   "outputs": [],
   "source": [
    "import pandas as pd\n",
    "# 교육부 국사편찬위원회_한국역사용어시소러스 \n",
    "# https://www.data.go.kr/data/3039423/fileData.do\n",
    "data = pd.read_csv('/workspace/K-history/k_hist_thesaurus.csv', encoding='utf-8')"
   ]
  },
  {
   "cell_type": "code",
   "execution_count": 30,
   "metadata": {},
   "outputs": [
    {
     "data": {
      "text/html": [
       "<div>\n",
       "<style scoped>\n",
       "    .dataframe tbody tr th:only-of-type {\n",
       "        vertical-align: middle;\n",
       "    }\n",
       "\n",
       "    .dataframe tbody tr th {\n",
       "        vertical-align: top;\n",
       "    }\n",
       "\n",
       "    .dataframe thead th {\n",
       "        text-align: right;\n",
       "    }\n",
       "</style>\n",
       "<table border=\"1\" class=\"dataframe\">\n",
       "  <thead>\n",
       "    <tr style=\"text-align: right;\">\n",
       "      <th></th>\n",
       "      <th>Q</th>\n",
       "      <th>A</th>\n",
       "    </tr>\n",
       "  </thead>\n",
       "  <tbody>\n",
       "    <tr>\n",
       "      <th>0</th>\n",
       "      <td>조선시대 의 수에 대해 설명해줘</td>\n",
       "      <td>조선시대 전설사(典設司)·풍저창(豊儲倉)·광흥창(廣興倉)의 장관과 종친부(宗親府)의...</td>\n",
       "    </tr>\n",
       "    <tr>\n",
       "      <th>1</th>\n",
       "      <td>삼국시대 의 수에 대해 설명해줘</td>\n",
       "      <td>중국의 통일 왕조.</td>\n",
       "    </tr>\n",
       "    <tr>\n",
       "      <th>2</th>\n",
       "      <td>개항기시기 의 수구당에 대해 설명해줘</td>\n",
       "      <td>개항기 명성황후를 중심으로 형성된 친청적(親淸的) 보수 정치 집단.</td>\n",
       "    </tr>\n",
       "    <tr>\n",
       "      <th>3</th>\n",
       "      <td>고려시대 의 수국사에 대해 설명해줘</td>\n",
       "      <td>고려시대 사관(史館)의 종2품 관직. 2품 이상이 겸직함.</td>\n",
       "    </tr>\n",
       "    <tr>\n",
       "      <th>4</th>\n",
       "      <td>고려시대 와 조선시대에 걸친 수군에 대해 설명해줘</td>\n",
       "      <td>고려-조선시대 치안 또는 국방을 위하여 수상(水上)에서 전투를 담당한 군대.</td>\n",
       "    </tr>\n",
       "  </tbody>\n",
       "</table>\n",
       "</div>"
      ],
      "text/plain": [
       "                             Q  \\\n",
       "0            조선시대 의 수에 대해 설명해줘   \n",
       "1            삼국시대 의 수에 대해 설명해줘   \n",
       "2         개항기시기 의 수구당에 대해 설명해줘   \n",
       "3          고려시대 의 수국사에 대해 설명해줘   \n",
       "4  고려시대 와 조선시대에 걸친 수군에 대해 설명해줘   \n",
       "\n",
       "                                                   A  \n",
       "0  조선시대 전설사(典設司)·풍저창(豊儲倉)·광흥창(廣興倉)의 장관과 종친부(宗親府)의...  \n",
       "1                                         중국의 통일 왕조.  \n",
       "2              개항기 명성황후를 중심으로 형성된 친청적(親淸的) 보수 정치 집단.  \n",
       "3                   고려시대 사관(史館)의 종2품 관직. 2품 이상이 겸직함.  \n",
       "4         고려-조선시대 치안 또는 국방을 위하여 수상(水上)에서 전투를 담당한 군대.  "
      ]
     },
     "execution_count": 30,
     "metadata": {},
     "output_type": "execute_result"
    }
   ],
   "source": [
    "# Convert term_times to string to avoid TypeError\n",
    "# Function to format the question based on the term_times pattern\n",
    "def format_question(term_name, term_times):\n",
    "    if '시기' in term_times:\n",
    "        term_times = term_times.replace('시기', '').strip()\n",
    "    if '-' in term_times:\n",
    "        times_split = term_times.split('-')\n",
    "        return f'{times_split[0]}시기 와 {times_split[1]}시기에 걸친 {term_name}에 대해 설명해줘'\n",
    "    else:\n",
    "        return f'{term_times}시기 의 {term_name}에 대해 설명해줘'\n",
    "\n",
    "# Creating the Q&A dataframe\n",
    "qa_data = pd.DataFrame({\n",
    "    'Q': data['term_name'] + '에 대해 설명해줘',\n",
    "    'A': data['term_desc']\n",
    "})\n",
    "\n",
    "\n",
    "data['term_times'] = data['term_times'].astype(str)\n",
    "\n",
    "# Apply the function again to create the new formatted questions\n",
    "qa_data['Q'] = data.apply(lambda x: format_question(x['term_name'], x['term_times']), axis=1)\n",
    "qa_data['Q'] = qa_data['Q'].str.replace('시대시기', '시대')\n",
    "\n",
    "qa_data.head()\n",
    "\n"
   ]
  },
  {
   "cell_type": "code",
   "execution_count": 26,
   "metadata": {},
   "outputs": [],
   "source": [
    "# make unique questions\n",
    "qa_data.drop_duplicates(subset=['Q'], inplace=True)\n",
    "qa_data.to_csv('/workspace/K-history/k_hist_qa.csv', index=False)"
   ]
  },
  {
   "cell_type": "code",
   "execution_count": 19,
   "metadata": {},
   "outputs": [
    {
     "data": {
      "text/plain": [
       "array(['근대', '일제시기', '삼국시대', '통시대', '고려전기', '남북국시대', '고려시대-조선시대', '조선후기',\n",
       "       '조선전기', '조선시대', '고려후기', '고려시대', '고대', '고려후기-조선시대', '근세-현대',\n",
       "       '삼국시대-고려시대', '고려후기-조선전기', nan, '근대-현대', '개항기', '선사시대',\n",
       "       '남북국시대-고려시대', '고대-현대', '남북국시대-고려전기', '선사시대-고대', '고려시대-현대', '근세-근대',\n",
       "       '대한제국기-현대', '남북국시대-조선시대', '신석기시대', '현대', '고려전기-현대', '초기철기시대',\n",
       "       '조선시대-현대', '구석기시대', '구석기시대-청동기시대', '일제시기-현대', '고려후기-현대', '선사시대-근세',\n",
       "       '삼국시대-조선시대', '고려후기-조선후기', '대한제국기', '조선후기-근대', '개항기-일제시기',\n",
       "       '고려시대-조선전기', '고려시대-일제시대', '삼국시대-조선후기', '고대-근대', '조선전기-근대',\n",
       "       '남북국시대-조선전기', '남북국시대-대한제국기', '남북국시대-조선후기', '고려후기-일제시기',\n",
       "       '삼국시대-조선전기', '남북국시대-개항기', '삼국시대-고려전기', '고려시대-조선후기', '남북국시대-고려후기',\n",
       "       '고려전기-조선전기', '후삼국시대', '대한제국기-일제시대', '대한제국기-', '개항기-현대', '개항기-일제시대',\n",
       "       '청동기시대-초기철기시대', '고대-조선시대', '구석기시대-신석기시대', '구석기시대-초기철기시대',\n",
       "       '고대-고려시대', '남북국시대, 고려후기', '중세', '일제시대', '삼국시대-고려후기', '조선후기-현대',\n",
       "       '남북국시대, 조선후기', '개항기-대한제국기', '당(중국)', '고대-근세', '청동기시대-남북국시대',\n",
       "       '고려후기-개항기', '선사시대-중세', '청동기시대, 조선시대', '?∼?', '중세-현대',\n",
       "       '청동기시대, 조선후기', '선사시대-조선시대', '중세-근대', '고대-조선후기', '고려전기-조선후기',\n",
       "       '선사시대-현대', '조선시대-근대', 'Opening of Ports - Contemporary Periods',\n",
       "       '개항기 - 현대', '고려시대-조선시대 ', '근대-?', '대한제국기-일제시기', '조선후기-일제시대',\n",
       "       '조선전기-대한제국기', '고려-개항기', '조선-근대', '고려-조선시대', '조선시대, 근세-근대', '고려-근대',\n",
       "       '고려시대-근대', '고려시대 ', '조선-현대', '고려시대-대한제국기', '조선후기-대한제국기',\n",
       "       '조선후기-개항기', '고려후기-대한제국기', '조선시대-대한제국기', '조선시대-일제시기', '남북국시대 '],\n",
       "      dtype=object)"
      ]
     },
     "execution_count": 19,
     "metadata": {},
     "output_type": "execute_result"
    }
   ],
   "source": [
    "# 시대 \n",
    "df['term_times'].unique()\n"
   ]
  },
  {
   "cell_type": "code",
   "execution_count": null,
   "metadata": {},
   "outputs": [],
   "source": []
  }
 ],
 "metadata": {
  "kernelspec": {
   "display_name": "base",
   "language": "python",
   "name": "python3"
  },
  "language_info": {
   "codemirror_mode": {
    "name": "ipython",
    "version": 3
   },
   "file_extension": ".py",
   "mimetype": "text/x-python",
   "name": "python",
   "nbconvert_exporter": "python",
   "pygments_lexer": "ipython3",
   "version": "3.10.11"
  }
 },
 "nbformat": 4,
 "nbformat_minor": 2
}
